{
 "cells": [
  {
   "cell_type": "code",
   "execution_count": 1,
   "metadata": {},
   "outputs": [],
   "source": [
    "import glob\n",
    "import os\n",
    "import re\n",
    "import yaml\n",
    "import pprint\n",
    "import pandas as pd\n",
    "import matplotlib.pyplot as plt"
   ]
  },
  {
   "cell_type": "code",
   "execution_count": 2,
   "metadata": {},
   "outputs": [],
   "source": [
    "RESULTS_DIR = '/home/sprasanna/Projects/training-datasets/'\n",
    "logfiles = glob.glob(os.path.join(RESULTS_DIR,'results*'))\n",
    "logfiles.sort(key=lambda f: int(filter(str.isdigit, f)))"
   ]
  },
  {
   "cell_type": "code",
   "execution_count": 3,
   "metadata": {},
   "outputs": [],
   "source": [
    "results = pd.DataFrame(columns=['Hyp_param_set_number', 'Accuracy','Total_time'])"
   ]
  },
  {
   "cell_type": "code",
   "execution_count": 4,
   "metadata": {},
   "outputs": [],
   "source": [
    "for nfiles in range(len(logfiles)):\n",
    "    _,filename = os.path.split(logfiles[nfiles])\n",
    "    df = pd.read_csv(logfiles[nfiles],header=None,names=['Results','Values'],index_col=0)\n",
    "    results.loc[nfiles] = [filename,df.loc['test acc','Values'],df.loc['total time','Values']]"
   ]
  },
  {
   "cell_type": "code",
   "execution_count": 5,
   "metadata": {},
   "outputs": [],
   "source": [
    "max_accuracy = results['Accuracy'].idxmax()\n",
    "accuracy_value = results.loc[max_accuracy, 'Accuracy']\n",
    "max_accuracy_experiment = results.loc[max_accuracy, 'Hyp_param_set_number']"
   ]
  },
  {
   "cell_type": "code",
   "execution_count": 6,
   "metadata": {},
   "outputs": [],
   "source": [
    "regex = re.compile(r'\\d+')\n",
    "n_experiment_set = int(regex.findall(max_accuracy_experiment)[0])"
   ]
  },
  {
   "cell_type": "code",
   "execution_count": 7,
   "metadata": {},
   "outputs": [
    {
     "name": "stdout",
     "output_type": "stream",
     "text": [
      "Results of hyperparameter sweep experiment:\n",
      "-------------------------------------------\n",
      "Maximum accuracy: 0.9426\n",
      "Experiment set with max accuracy: results_job_id_2.log\n",
      "\n",
      "{'batch_norm': 'on',\n",
      " 'batch_size': 512,\n",
      " 'data_aug_cutout_size': 5,\n",
      " 'max_learning_rate': 0.4,\n",
      " 'momentum': 0.9}\n"
     ]
    },
    {
     "data": {
      "text/plain": [
       "<matplotlib.axes._subplots.AxesSubplot at 0x7fada2272a50>"
      ]
     },
     "execution_count": 7,
     "metadata": {},
     "output_type": "execute_result"
    },
    {
     "data": {
      "image/png": "[encoded data removed]",
      "text/plain": [
       "<Figure size 432x288 with 1 Axes>"
      ]
     },
     "metadata": {},
     "output_type": "display_data"
    }
   ],
   "source": [
    "print('Results of hyperparameter sweep experiment:')\n",
    "print('-------------------------------------------')\n",
    "print('Maximum accuracy: {}'.format(accuracy_value))\n",
    "print('Experiment set with max accuracy: {}\\n'.format(max_accuracy_experiment))\n",
    "\n",
    "with open(\"hyperparams.yml\", 'r') as stream:\n",
    "    hyper_param_set = yaml.load(stream)\n",
    "pprint.pprint(hyper_param_set[n_experiment_set-1][\"hyperparam_set\"])\n",
    "\n",
    "results.plot(x='Hyp_param_set_number',y='Accuracy',kind='bar')"
   ]
  },
  {
   "cell_type": "code",
   "execution_count": 8,
   "metadata": {},
   "outputs": [
    {
     "data": {
      "text/html": [
       "<div>\n",
       "<style>\n",
       "    .dataframe thead tr:only-child th {\n",
       "        text-align: right;\n",
       "    }\n",
       "\n",
       "    .dataframe thead th {\n",
       "        text-align: left;\n",
       "    }\n",
       "\n",
       "    .dataframe tbody tr th {\n",
       "        vertical-align: top;\n",
       "    }\n",
       "</style>\n",
       "<table border=\"1\" class=\"dataframe\">\n",
       "  <thead>\n",
       "    <tr style=\"text-align: right;\">\n",
       "      <th></th>\n",
       "      <th>Hyp_param_set_number</th>\n",
       "      <th>Accuracy</th>\n",
       "      <th>Total_time</th>\n",
       "    </tr>\n",
       "  </thead>\n",
       "  <tbody>\n",
       "    <tr>\n",
       "      <th>0</th>\n",
       "      <td>results_job_id_1.log</td>\n",
       "      <td>0.9347</td>\n",
       "      <td>117.764999</td>\n",
       "    </tr>\n",
       "    <tr>\n",
       "      <th>1</th>\n",
       "      <td>results_job_id_2.log</td>\n",
       "      <td>0.9426</td>\n",
       "      <td>75.399140</td>\n",
       "    </tr>\n",
       "    <tr>\n",
       "      <th>2</th>\n",
       "      <td>results_job_id_3.log</td>\n",
       "      <td>0.9301</td>\n",
       "      <td>119.592690</td>\n",
       "    </tr>\n",
       "    <tr>\n",
       "      <th>3</th>\n",
       "      <td>results_job_id_4.log</td>\n",
       "      <td>0.9397</td>\n",
       "      <td>75.619865</td>\n",
       "    </tr>\n",
       "    <tr>\n",
       "      <th>4</th>\n",
       "      <td>results_job_id_5.log</td>\n",
       "      <td>0.8285</td>\n",
       "      <td>117.680233</td>\n",
       "    </tr>\n",
       "    <tr>\n",
       "      <th>5</th>\n",
       "      <td>results_job_id_6.log</td>\n",
       "      <td>0.8883</td>\n",
       "      <td>74.556600</td>\n",
       "    </tr>\n",
       "    <tr>\n",
       "      <th>6</th>\n",
       "      <td>results_job_id_7.log</td>\n",
       "      <td>0.8129</td>\n",
       "      <td>114.646887</td>\n",
       "    </tr>\n",
       "    <tr>\n",
       "      <th>7</th>\n",
       "      <td>results_job_id_8.log</td>\n",
       "      <td>0.8737</td>\n",
       "      <td>74.983109</td>\n",
       "    </tr>\n",
       "    <tr>\n",
       "      <th>8</th>\n",
       "      <td>results_job_id_9.log</td>\n",
       "      <td>0.9274</td>\n",
       "      <td>116.857387</td>\n",
       "    </tr>\n",
       "    <tr>\n",
       "      <th>9</th>\n",
       "      <td>results_job_id_10.log</td>\n",
       "      <td>0.9419</td>\n",
       "      <td>75.062058</td>\n",
       "    </tr>\n",
       "    <tr>\n",
       "      <th>10</th>\n",
       "      <td>results_job_id_11.log</td>\n",
       "      <td>0.9213</td>\n",
       "      <td>116.772228</td>\n",
       "    </tr>\n",
       "    <tr>\n",
       "      <th>11</th>\n",
       "      <td>results_job_id_12.log</td>\n",
       "      <td>0.9376</td>\n",
       "      <td>75.540528</td>\n",
       "    </tr>\n",
       "    <tr>\n",
       "      <th>12</th>\n",
       "      <td>results_job_id_13.log</td>\n",
       "      <td>0.8182</td>\n",
       "      <td>116.791409</td>\n",
       "    </tr>\n",
       "    <tr>\n",
       "      <th>13</th>\n",
       "      <td>results_job_id_14.log</td>\n",
       "      <td>0.8741</td>\n",
       "      <td>74.523308</td>\n",
       "    </tr>\n",
       "    <tr>\n",
       "      <th>14</th>\n",
       "      <td>results_job_id_15.log</td>\n",
       "      <td>0.8042</td>\n",
       "      <td>117.292228</td>\n",
       "    </tr>\n",
       "    <tr>\n",
       "      <th>15</th>\n",
       "      <td>results_job_id_16.log</td>\n",
       "      <td>0.8634</td>\n",
       "      <td>74.602888</td>\n",
       "    </tr>\n",
       "  </tbody>\n",
       "</table>\n",
       "</div>"
      ],
      "text/plain": [
       "     Hyp_param_set_number  Accuracy  Total_time\n",
       "0    results_job_id_1.log    0.9347  117.764999\n",
       "1    results_job_id_2.log    0.9426   75.399140\n",
       "2    results_job_id_3.log    0.9301  119.592690\n",
       "3    results_job_id_4.log    0.9397   75.619865\n",
       "4    results_job_id_5.log    0.8285  117.680233\n",
       "5    results_job_id_6.log    0.8883   74.556600\n",
       "6    results_job_id_7.log    0.8129  114.646887\n",
       "7    results_job_id_8.log    0.8737   74.983109\n",
       "8    results_job_id_9.log    0.9274  116.857387\n",
       "9   results_job_id_10.log    0.9419   75.062058\n",
       "10  results_job_id_11.log    0.9213  116.772228\n",
       "11  results_job_id_12.log    0.9376   75.540528\n",
       "12  results_job_id_13.log    0.8182  116.791409\n",
       "13  results_job_id_14.log    0.8741   74.523308\n",
       "14  results_job_id_15.log    0.8042  117.292228\n",
       "15  results_job_id_16.log    0.8634   74.602888"
      ]
     },
     "execution_count": 8,
     "metadata": {},
     "output_type": "execute_result"
    }
   ],
   "source": [
    "results"
   ]
  }
 ],
 "metadata": {
  "kernelspec": {
   "display_name": "Python 2",
   "language": "python",
   "name": "python2"
  },
  "language_info": {
   "codemirror_mode": {
    "name": "ipython",
    "version": 2
   },
   "file_extension": ".py",
   "mimetype": "text/x-python",
   "name": "python",
   "nbconvert_exporter": "python",
   "pygments_lexer": "ipython2",
   "version": "2.7.14"
  }
 },
 "nbformat": 4,
 "nbformat_minor": 2
}
